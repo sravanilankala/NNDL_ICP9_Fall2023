{
  "nbformat": 4,
  "nbformat_minor": 0,
  "metadata": {
    "colab": {
      "provenance": []
    },
    "kernelspec": {
      "name": "python3",
      "display_name": "Python 3"
    },
    "language_info": {
      "name": "python"
    }
  },
  "cells": [
    {
      "cell_type": "code",
      "execution_count": 26,
      "metadata": {
        "id": "wpvpeCcR3huA"
      },
      "outputs": [],
      "source": [
        "import pandas as pd #Basic packages for creating dataframes and loading dataset\n",
        "import numpy as np\n",
        "import matplotlib.pyplot as plt #Package for visualization\n",
        "import re #importing package for Regular expression operations\n",
        "from sklearn.model_selection import train_test_split #Package for splitting the data\n",
        "from sklearn.preprocessing import LabelEncoder #Package for conversion of categorical to Numerical\n",
        "from keras.preprocessing.text import Tokenizer #Tokenization\n",
        "from tensorflow.keras.preprocessing.sequence import pad_sequences #Add zeros or crop based on the length\n",
        "from keras.models import Sequential #Sequential Neural Network\n",
        "from keras.layers import Dense, Embedding, LSTM, SpatialDropout1D #For layers in Neural Network\n",
        "from keras.utils import to_categorical"
      ]
    },
    {
      "cell_type": "code",
      "source": [
        "# Load the dataset as a Pandas DataFrame\n",
        "dataset = pd.read_csv('/content/sample_data/Sentiment.csv')"
      ],
      "metadata": {
        "id": "ItOvL8YH4D-U"
      },
      "execution_count": 6,
      "outputs": []
    },
    {
      "cell_type": "code",
      "source": [
        "import pandas as pd\n",
        "\n",
        "# Select only the necessary columns 'text' and 'sentiment'\n",
        "mask = dataset.columns.isin(['text', 'sentiment'])\n",
        "data = dataset.loc[:, mask]\n",
        "\n",
        "# Keeping only the necessary columns\n",
        "data['text'] = data['text'].apply(lambda x: x.lower())\n",
        "data['text'] = data['text'].apply((lambda x: re.sub('[^a-zA-z0-9\\s]', '', x)))"
      ],
      "metadata": {
        "colab": {
          "base_uri": "https://localhost:8080/"
        },
        "id": "qSg66pDR4MzS",
        "outputId": "e3c1e302-846f-4ca8-c4f0-b152dd42e1ba"
      },
      "execution_count": 8,
      "outputs": [
        {
          "output_type": "stream",
          "name": "stderr",
          "text": [
            "<ipython-input-8-490eea941f83>:8: SettingWithCopyWarning: \n",
            "A value is trying to be set on a copy of a slice from a DataFrame.\n",
            "Try using .loc[row_indexer,col_indexer] = value instead\n",
            "\n",
            "See the caveats in the documentation: https://pandas.pydata.org/pandas-docs/stable/user_guide/indexing.html#returning-a-view-versus-a-copy\n",
            "  data['text'] = data['text'].apply(lambda x: x.lower())\n",
            "<ipython-input-8-490eea941f83>:9: SettingWithCopyWarning: \n",
            "A value is trying to be set on a copy of a slice from a DataFrame.\n",
            "Try using .loc[row_indexer,col_indexer] = value instead\n",
            "\n",
            "See the caveats in the documentation: https://pandas.pydata.org/pandas-docs/stable/user_guide/indexing.html#returning-a-view-versus-a-copy\n",
            "  data['text'] = data['text'].apply((lambda x: re.sub('[^a-zA-z0-9\\s]', '', x)))\n"
          ]
        }
      ]
    },
    {
      "cell_type": "code",
      "source": [
        "for idx, row in data.iterrows():\n",
        "    row[0] = row[0].replace('rt', ' ') #Removing Retweets\n",
        "    max_fatures = 2000\n",
        "tokenizer = Tokenizer(num_words=max_fatures, split=' ') #Maximum words is 2000 to tokenize sentence\n",
        "tokenizer.fit_on_texts(data['text'].values)\n",
        "X = tokenizer.texts_to_sequences(data['text'].values) #taking values to feature matrix\n",
        "X = pad_sequences(X) #Padding the feature matrix\n",
        "\n",
        "embed_dim = 128 #Dimension of the Embedded layer\n",
        "lstm_out = 196 #Long short-term memory (LSTM) layer neurons\n",
        "def createmodel():\n",
        "    model = Sequential() #Sequential Neural Network\n",
        "    model.add(Embedding(max_fatures, embed_dim,input_length = X.shape[1])) #input dimension 2000 Neurons, output dimension 128 Neurons\n",
        "    model.add(LSTM(lstm_out, dropout=0.2, recurrent_dropout=0.2)) #Drop out 20%, 196 output Neurons, recurrent dropout 20%\n",
        "    model.add(Dense(3,activation='softmax')) #3 output neurons[positive, Neutral, Negative], softmax as activation\n",
        "    model.compile(loss = 'categorical_crossentropy', optimizer='adam',metrics = ['accuracy']) #Compiling the model\n",
        "    return model\n",
        "# print(model.summary())\n",
        "labelencoder = LabelEncoder() #Applying label Encoding on the label matrix\n",
        "integer_encoded = labelencoder.fit_transform(data['sentiment']) #fitting the model\n",
        "y = to_categorical(integer_encoded)\n",
        "X_train, X_test, Y_train, Y_test = train_test_split(X,y, test_size = 0.33, random_state = 42) #67% training data, 33% test data split\n",
        "batch_size = 32 #Batch size 32\n",
        "model = createmodel() #Function call to Sequential Neural Network\n",
        "model.fit(X_train, Y_train, epochs = 1, batch_size=batch_size, verbose = 2) #verbose the higher, the more messages\n",
        "score,acc = model.evaluate(X_test,Y_test,verbose=2,batch_size=batch_size) #evaluating the model\n",
        "print(score)\n",
        "print(acc)"
      ],
      "metadata": {
        "colab": {
          "base_uri": "https://localhost:8080/"
        },
        "id": "aG8pViYA8UH5",
        "outputId": "1a9fd5dd-7e96-4ef0-e027-55a65499f732"
      },
      "execution_count": 9,
      "outputs": [
        {
          "output_type": "stream",
          "name": "stdout",
          "text": [
            "291/291 - 51s - loss: 0.8225 - accuracy: 0.6467 - 51s/epoch - 174ms/step\n",
            "144/144 - 3s - loss: 0.7427 - accuracy: 0.6741 - 3s/epoch - 22ms/step\n",
            "0.7426541447639465\n",
            "0.67409348487854\n"
          ]
        }
      ]
    },
    {
      "cell_type": "code",
      "source": [
        "print(model.metrics_names) #metrics of the model"
      ],
      "metadata": {
        "colab": {
          "base_uri": "https://localhost:8080/"
        },
        "id": "COjYOCdU9J_V",
        "outputId": "a2d1d7ba-89e1-4116-816f-40c1cef070ed"
      },
      "execution_count": 10,
      "outputs": [
        {
          "output_type": "stream",
          "name": "stdout",
          "text": [
            "['loss', 'accuracy']\n"
          ]
        }
      ]
    },
    {
      "cell_type": "code",
      "source": [
        "#1. Save the model and use the saved model to predict on new text data\n",
        "#(ex, “A lot of good things are happening. We are respected again throughout the world, and that's a great thing.@realDonaldTrump”)\n",
        "model.save('sentimentAnalysis.h5') #Saving the model"
      ],
      "metadata": {
        "id": "HJbkwdrI9RM_",
        "colab": {
          "base_uri": "https://localhost:8080/"
        },
        "outputId": "de8fdd30-fc5d-4b50-8e5f-6a919bfbc1af"
      },
      "execution_count": 12,
      "outputs": [
        {
          "output_type": "stream",
          "name": "stderr",
          "text": [
            "/usr/local/lib/python3.10/dist-packages/keras/src/engine/training.py:3079: UserWarning: You are saving your model as an HDF5 file via `model.save()`. This file format is considered legacy. We recommend using instead the native Keras format, e.g. `model.save('my_model.keras')`.\n",
            "  saving_api.save_model(\n"
          ]
        }
      ]
    },
    {
      "cell_type": "code",
      "source": [
        "from keras.models import load_model #Importing the package for importing the saved model\n",
        "model= load_model('sentimentAnalysis.h5') #loading the saved model"
      ],
      "metadata": {
        "id": "TBar1o_-9XLe"
      },
      "execution_count": 13,
      "outputs": []
    },
    {
      "cell_type": "code",
      "source": [
        "print(integer_encoded)\n",
        "print(data['sentiment'])"
      ],
      "metadata": {
        "colab": {
          "base_uri": "https://localhost:8080/"
        },
        "id": "6Kn1ST-v9beP",
        "outputId": "df127b53-ca1e-4773-b903-4a104e7b191f"
      },
      "execution_count": 14,
      "outputs": [
        {
          "output_type": "stream",
          "name": "stdout",
          "text": [
            "[1 2 1 ... 2 0 2]\n",
            "0         Neutral\n",
            "1        Positive\n",
            "2         Neutral\n",
            "3        Positive\n",
            "4        Positive\n",
            "           ...   \n",
            "13866    Negative\n",
            "13867    Positive\n",
            "13868    Positive\n",
            "13869    Negative\n",
            "13870    Positive\n",
            "Name: sentiment, Length: 13871, dtype: object\n"
          ]
        }
      ]
    },
    {
      "cell_type": "code",
      "source": [
        "# Predicting on the text data\n",
        "sentence = ['A lot of good things are happening. We are respected again throughout the world, and that is a great thing.@realDonaldTrump']\n",
        "sentence = tokenizer.texts_to_sequences(sentence) # Tokenizing the sentence\n",
        "sentence = pad_sequences(sentence, maxlen=28, dtype='int32', value=0) # Padding the sentence\n",
        "sentiment_probs = model.predict(sentence, batch_size=1, verbose=2)[0] # Predicting the sentence text\n",
        "sentiment = np.argmax(sentiment_probs)\n",
        "\n",
        "print(sentiment_probs)\n",
        "if sentiment == 0:\n",
        "    print(\"Neutral\")\n",
        "elif sentiment < 0:\n",
        "    print(\"Negative\")\n",
        "elif sentiment > 0:\n",
        "    print(\"Positive\")\n",
        "else:\n",
        "    print(\"Cannot be determined\")\n"
      ],
      "metadata": {
        "colab": {
          "base_uri": "https://localhost:8080/"
        },
        "id": "3PmO0W3y9fXs",
        "outputId": "12047276-38c8-4317-81ad-7939de1b1bb0"
      },
      "execution_count": 15,
      "outputs": [
        {
          "output_type": "stream",
          "name": "stdout",
          "text": [
            "1/1 - 0s - 295ms/epoch - 295ms/step\n",
            "[0.6498836  0.11129723 0.23881917]\n",
            "Neutral\n"
          ]
        }
      ]
    },
    {
      "cell_type": "code",
      "source": [
        "#2. Apply GridSearchCV on the source code provided in the class\n",
        "!pip install scikeras #install scikeras package\n",
        "from scikeras.wrappers import KerasClassifier #importing Keras classifier\n",
        "from sklearn.model_selection import GridSearchCV #importing Grid search CV\n",
        "\n",
        "model = KerasClassifier(build_fn=createmodel,verbose=2) #initiating model to test performance by applying multiple hyper parameters\n",
        "batch_size= [10, 20, 40] #hyper parameter batch_size\n",
        "epochs = [1, 2] #hyper parameter no. of epochs\n",
        "param_grid= {'batch_size':batch_size, 'epochs':epochs} #creating dictionary for batch size, no. of epochs\n",
        "grid  = GridSearchCV(estimator=model, param_grid=param_grid) #Applying dictionary with hyper parameters\n",
        "grid_result= grid.fit(X_train,Y_train) #Fitting the model\n",
        "# summarize results\n",
        "print(\"Best: %f using %s\" % (grid_result.best_score_, grid_result.best_params_)) #best score, best hyper parameters"
      ],
      "metadata": {
        "colab": {
          "base_uri": "https://localhost:8080/"
        },
        "id": "0NBZ3-vd9ntz",
        "outputId": "26981481-03c9-41ad-bb43-f1345696c39e"
      },
      "execution_count": 25,
      "outputs": [
        {
          "output_type": "stream",
          "name": "stdout",
          "text": [
            "Collecting scikeras\n",
            "  Downloading scikeras-0.12.0-py3-none-any.whl (27 kB)\n",
            "Requirement already satisfied: packaging>=0.21 in /usr/local/lib/python3.10/dist-packages (from scikeras) (23.2)\n",
            "Requirement already satisfied: scikit-learn>=1.0.0 in /usr/local/lib/python3.10/dist-packages (from scikeras) (1.2.2)\n",
            "Requirement already satisfied: numpy>=1.17.3 in /usr/local/lib/python3.10/dist-packages (from scikit-learn>=1.0.0->scikeras) (1.23.5)\n",
            "Requirement already satisfied: scipy>=1.3.2 in /usr/local/lib/python3.10/dist-packages (from scikit-learn>=1.0.0->scikeras) (1.11.3)\n",
            "Requirement already satisfied: joblib>=1.1.1 in /usr/local/lib/python3.10/dist-packages (from scikit-learn>=1.0.0->scikeras) (1.3.2)\n",
            "Requirement already satisfied: threadpoolctl>=2.0.0 in /usr/local/lib/python3.10/dist-packages (from scikit-learn>=1.0.0->scikeras) (3.2.0)\n",
            "Installing collected packages: scikeras\n",
            "Successfully installed scikeras-0.12.0\n"
          ]
        },
        {
          "output_type": "stream",
          "name": "stderr",
          "text": [
            "/usr/local/lib/python3.10/dist-packages/scikeras/wrappers.py:915: UserWarning: ``build_fn`` will be renamed to ``model`` in a future release, at which point use of ``build_fn`` will raise an Error instead.\n",
            "  X, y = self._initialize(X, y)\n"
          ]
        },
        {
          "output_type": "stream",
          "name": "stdout",
          "text": [
            "744/744 - 104s - loss: 0.8238 - accuracy: 0.6454 - 104s/epoch - 140ms/step\n",
            "186/186 - 3s - 3s/epoch - 16ms/step\n"
          ]
        },
        {
          "output_type": "stream",
          "name": "stderr",
          "text": [
            "/usr/local/lib/python3.10/dist-packages/scikeras/wrappers.py:915: UserWarning: ``build_fn`` will be renamed to ``model`` in a future release, at which point use of ``build_fn`` will raise an Error instead.\n",
            "  X, y = self._initialize(X, y)\n"
          ]
        },
        {
          "output_type": "stream",
          "name": "stdout",
          "text": [
            "744/744 - 103s - loss: 0.8247 - accuracy: 0.6501 - 103s/epoch - 138ms/step\n",
            "186/186 - 3s - 3s/epoch - 17ms/step\n"
          ]
        },
        {
          "output_type": "stream",
          "name": "stderr",
          "text": [
            "/usr/local/lib/python3.10/dist-packages/scikeras/wrappers.py:915: UserWarning: ``build_fn`` will be renamed to ``model`` in a future release, at which point use of ``build_fn`` will raise an Error instead.\n",
            "  X, y = self._initialize(X, y)\n"
          ]
        },
        {
          "output_type": "stream",
          "name": "stdout",
          "text": [
            "744/744 - 104s - loss: 0.8244 - accuracy: 0.6439 - 104s/epoch - 140ms/step\n",
            "186/186 - 3s - 3s/epoch - 18ms/step\n"
          ]
        },
        {
          "output_type": "stream",
          "name": "stderr",
          "text": [
            "/usr/local/lib/python3.10/dist-packages/scikeras/wrappers.py:915: UserWarning: ``build_fn`` will be renamed to ``model`` in a future release, at which point use of ``build_fn`` will raise an Error instead.\n",
            "  X, y = self._initialize(X, y)\n"
          ]
        },
        {
          "output_type": "stream",
          "name": "stdout",
          "text": [
            "744/744 - 107s - loss: 0.8266 - accuracy: 0.6440 - 107s/epoch - 143ms/step\n",
            "186/186 - 3s - 3s/epoch - 18ms/step\n"
          ]
        },
        {
          "output_type": "stream",
          "name": "stderr",
          "text": [
            "/usr/local/lib/python3.10/dist-packages/scikeras/wrappers.py:915: UserWarning: ``build_fn`` will be renamed to ``model`` in a future release, at which point use of ``build_fn`` will raise an Error instead.\n",
            "  X, y = self._initialize(X, y)\n"
          ]
        },
        {
          "output_type": "stream",
          "name": "stdout",
          "text": [
            "744/744 - 102s - loss: 0.8238 - accuracy: 0.6406 - 102s/epoch - 138ms/step\n",
            "186/186 - 3s - 3s/epoch - 15ms/step\n"
          ]
        },
        {
          "output_type": "stream",
          "name": "stderr",
          "text": [
            "/usr/local/lib/python3.10/dist-packages/scikeras/wrappers.py:915: UserWarning: ``build_fn`` will be renamed to ``model`` in a future release, at which point use of ``build_fn`` will raise an Error instead.\n",
            "  X, y = self._initialize(X, y)\n"
          ]
        },
        {
          "output_type": "stream",
          "name": "stdout",
          "text": [
            "Epoch 1/2\n",
            "744/744 - 104s - loss: 0.8230 - accuracy: 0.6492 - 104s/epoch - 140ms/step\n",
            "Epoch 2/2\n",
            "744/744 - 116s - loss: 0.6782 - accuracy: 0.7121 - 116s/epoch - 156ms/step\n",
            "186/186 - 3s - 3s/epoch - 17ms/step\n"
          ]
        },
        {
          "output_type": "stream",
          "name": "stderr",
          "text": [
            "/usr/local/lib/python3.10/dist-packages/scikeras/wrappers.py:915: UserWarning: ``build_fn`` will be renamed to ``model`` in a future release, at which point use of ``build_fn`` will raise an Error instead.\n",
            "  X, y = self._initialize(X, y)\n"
          ]
        },
        {
          "output_type": "stream",
          "name": "stdout",
          "text": [
            "Epoch 1/2\n",
            "744/744 - 116s - loss: 0.8186 - accuracy: 0.6481 - 116s/epoch - 155ms/step\n",
            "Epoch 2/2\n",
            "744/744 - 102s - loss: 0.6784 - accuracy: 0.7129 - 102s/epoch - 137ms/step\n",
            "186/186 - 3s - 3s/epoch - 16ms/step\n"
          ]
        },
        {
          "output_type": "stream",
          "name": "stderr",
          "text": [
            "/usr/local/lib/python3.10/dist-packages/scikeras/wrappers.py:915: UserWarning: ``build_fn`` will be renamed to ``model`` in a future release, at which point use of ``build_fn`` will raise an Error instead.\n",
            "  X, y = self._initialize(X, y)\n"
          ]
        },
        {
          "output_type": "stream",
          "name": "stdout",
          "text": [
            "Epoch 1/2\n",
            "744/744 - 105s - loss: 0.8237 - accuracy: 0.6500 - 105s/epoch - 141ms/step\n",
            "Epoch 2/2\n",
            "744/744 - 99s - loss: 0.6788 - accuracy: 0.7172 - 99s/epoch - 133ms/step\n",
            "186/186 - 3s - 3s/epoch - 15ms/step\n"
          ]
        },
        {
          "output_type": "stream",
          "name": "stderr",
          "text": [
            "/usr/local/lib/python3.10/dist-packages/scikeras/wrappers.py:915: UserWarning: ``build_fn`` will be renamed to ``model`` in a future release, at which point use of ``build_fn`` will raise an Error instead.\n",
            "  X, y = self._initialize(X, y)\n"
          ]
        },
        {
          "output_type": "stream",
          "name": "stdout",
          "text": [
            "Epoch 1/2\n",
            "744/744 - 110s - loss: 0.8250 - accuracy: 0.6448 - 110s/epoch - 148ms/step\n",
            "Epoch 2/2\n",
            "744/744 - 97s - loss: 0.6740 - accuracy: 0.7103 - 97s/epoch - 131ms/step\n",
            "186/186 - 3s - 3s/epoch - 17ms/step\n"
          ]
        },
        {
          "output_type": "stream",
          "name": "stderr",
          "text": [
            "/usr/local/lib/python3.10/dist-packages/scikeras/wrappers.py:915: UserWarning: ``build_fn`` will be renamed to ``model`` in a future release, at which point use of ``build_fn`` will raise an Error instead.\n",
            "  X, y = self._initialize(X, y)\n"
          ]
        },
        {
          "output_type": "stream",
          "name": "stdout",
          "text": [
            "Epoch 1/2\n",
            "744/744 - 108s - loss: 0.8181 - accuracy: 0.6444 - 108s/epoch - 146ms/step\n",
            "Epoch 2/2\n",
            "744/744 - 105s - loss: 0.6706 - accuracy: 0.7145 - 105s/epoch - 141ms/step\n",
            "186/186 - 3s - 3s/epoch - 16ms/step\n"
          ]
        },
        {
          "output_type": "stream",
          "name": "stderr",
          "text": [
            "/usr/local/lib/python3.10/dist-packages/scikeras/wrappers.py:915: UserWarning: ``build_fn`` will be renamed to ``model`` in a future release, at which point use of ``build_fn`` will raise an Error instead.\n",
            "  X, y = self._initialize(X, y)\n"
          ]
        },
        {
          "output_type": "stream",
          "name": "stdout",
          "text": [
            "372/372 - 60s - loss: 0.8330 - accuracy: 0.6410 - 60s/epoch - 161ms/step\n",
            "93/93 - 2s - 2s/epoch - 20ms/step\n"
          ]
        },
        {
          "output_type": "stream",
          "name": "stderr",
          "text": [
            "/usr/local/lib/python3.10/dist-packages/scikeras/wrappers.py:915: UserWarning: ``build_fn`` will be renamed to ``model`` in a future release, at which point use of ``build_fn`` will raise an Error instead.\n",
            "  X, y = self._initialize(X, y)\n"
          ]
        },
        {
          "output_type": "stream",
          "name": "stdout",
          "text": [
            "372/372 - 59s - loss: 0.8247 - accuracy: 0.6435 - 59s/epoch - 158ms/step\n",
            "93/93 - 2s - 2s/epoch - 20ms/step\n"
          ]
        },
        {
          "output_type": "stream",
          "name": "stderr",
          "text": [
            "/usr/local/lib/python3.10/dist-packages/scikeras/wrappers.py:915: UserWarning: ``build_fn`` will be renamed to ``model`` in a future release, at which point use of ``build_fn`` will raise an Error instead.\n",
            "  X, y = self._initialize(X, y)\n"
          ]
        },
        {
          "output_type": "stream",
          "name": "stdout",
          "text": [
            "372/372 - 64s - loss: 0.8339 - accuracy: 0.6410 - 64s/epoch - 172ms/step\n",
            "93/93 - 2s - 2s/epoch - 21ms/step\n"
          ]
        },
        {
          "output_type": "stream",
          "name": "stderr",
          "text": [
            "/usr/local/lib/python3.10/dist-packages/scikeras/wrappers.py:915: UserWarning: ``build_fn`` will be renamed to ``model`` in a future release, at which point use of ``build_fn`` will raise an Error instead.\n",
            "  X, y = self._initialize(X, y)\n"
          ]
        },
        {
          "output_type": "stream",
          "name": "stdout",
          "text": [
            "372/372 - 60s - loss: 0.8245 - accuracy: 0.6494 - 60s/epoch - 160ms/step\n",
            "93/93 - 2s - 2s/epoch - 20ms/step\n"
          ]
        },
        {
          "output_type": "stream",
          "name": "stderr",
          "text": [
            "/usr/local/lib/python3.10/dist-packages/scikeras/wrappers.py:915: UserWarning: ``build_fn`` will be renamed to ``model`` in a future release, at which point use of ``build_fn`` will raise an Error instead.\n",
            "  X, y = self._initialize(X, y)\n"
          ]
        },
        {
          "output_type": "stream",
          "name": "stdout",
          "text": [
            "372/372 - 63s - loss: 0.8251 - accuracy: 0.6425 - 63s/epoch - 170ms/step\n",
            "93/93 - 2s - 2s/epoch - 21ms/step\n"
          ]
        },
        {
          "output_type": "stream",
          "name": "stderr",
          "text": [
            "/usr/local/lib/python3.10/dist-packages/scikeras/wrappers.py:915: UserWarning: ``build_fn`` will be renamed to ``model`` in a future release, at which point use of ``build_fn`` will raise an Error instead.\n",
            "  X, y = self._initialize(X, y)\n"
          ]
        },
        {
          "output_type": "stream",
          "name": "stdout",
          "text": [
            "Epoch 1/2\n",
            "372/372 - 61s - loss: 0.8335 - accuracy: 0.6458 - 61s/epoch - 164ms/step\n",
            "Epoch 2/2\n",
            "372/372 - 55s - loss: 0.6813 - accuracy: 0.7080 - 55s/epoch - 148ms/step\n",
            "93/93 - 2s - 2s/epoch - 20ms/step\n"
          ]
        },
        {
          "output_type": "stream",
          "name": "stderr",
          "text": [
            "/usr/local/lib/python3.10/dist-packages/scikeras/wrappers.py:915: UserWarning: ``build_fn`` will be renamed to ``model`` in a future release, at which point use of ``build_fn`` will raise an Error instead.\n",
            "  X, y = self._initialize(X, y)\n"
          ]
        },
        {
          "output_type": "stream",
          "name": "stdout",
          "text": [
            "Epoch 1/2\n",
            "372/372 - 60s - loss: 0.8275 - accuracy: 0.6430 - 60s/epoch - 161ms/step\n",
            "Epoch 2/2\n",
            "372/372 - 56s - loss: 0.6828 - accuracy: 0.7139 - 56s/epoch - 151ms/step\n",
            "93/93 - 2s - 2s/epoch - 20ms/step\n"
          ]
        },
        {
          "output_type": "stream",
          "name": "stderr",
          "text": [
            "/usr/local/lib/python3.10/dist-packages/scikeras/wrappers.py:915: UserWarning: ``build_fn`` will be renamed to ``model`` in a future release, at which point use of ``build_fn`` will raise an Error instead.\n",
            "  X, y = self._initialize(X, y)\n"
          ]
        },
        {
          "output_type": "stream",
          "name": "stdout",
          "text": [
            "Epoch 1/2\n",
            "372/372 - 63s - loss: 0.8308 - accuracy: 0.6414 - 63s/epoch - 170ms/step\n",
            "Epoch 2/2\n",
            "372/372 - 57s - loss: 0.6755 - accuracy: 0.7107 - 57s/epoch - 153ms/step\n",
            "93/93 - 3s - 3s/epoch - 28ms/step\n"
          ]
        },
        {
          "output_type": "stream",
          "name": "stderr",
          "text": [
            "/usr/local/lib/python3.10/dist-packages/scikeras/wrappers.py:915: UserWarning: ``build_fn`` will be renamed to ``model`` in a future release, at which point use of ``build_fn`` will raise an Error instead.\n",
            "  X, y = self._initialize(X, y)\n"
          ]
        },
        {
          "output_type": "stream",
          "name": "stdout",
          "text": [
            "Epoch 1/2\n",
            "372/372 - 61s - loss: 0.8376 - accuracy: 0.6418 - 61s/epoch - 164ms/step\n",
            "Epoch 2/2\n",
            "372/372 - 56s - loss: 0.6783 - accuracy: 0.7108 - 56s/epoch - 152ms/step\n",
            "93/93 - 2s - 2s/epoch - 20ms/step\n"
          ]
        },
        {
          "output_type": "stream",
          "name": "stderr",
          "text": [
            "/usr/local/lib/python3.10/dist-packages/scikeras/wrappers.py:915: UserWarning: ``build_fn`` will be renamed to ``model`` in a future release, at which point use of ``build_fn`` will raise an Error instead.\n",
            "  X, y = self._initialize(X, y)\n"
          ]
        },
        {
          "output_type": "stream",
          "name": "stdout",
          "text": [
            "Epoch 1/2\n",
            "372/372 - 59s - loss: 0.8276 - accuracy: 0.6386 - 59s/epoch - 158ms/step\n",
            "Epoch 2/2\n",
            "372/372 - 56s - loss: 0.6710 - accuracy: 0.7154 - 56s/epoch - 150ms/step\n",
            "93/93 - 2s - 2s/epoch - 20ms/step\n"
          ]
        },
        {
          "output_type": "stream",
          "name": "stderr",
          "text": [
            "/usr/local/lib/python3.10/dist-packages/scikeras/wrappers.py:915: UserWarning: ``build_fn`` will be renamed to ``model`` in a future release, at which point use of ``build_fn`` will raise an Error instead.\n",
            "  X, y = self._initialize(X, y)\n"
          ]
        },
        {
          "output_type": "stream",
          "name": "stdout",
          "text": [
            "186/186 - 39s - loss: 0.8395 - accuracy: 0.6410 - 39s/epoch - 212ms/step\n",
            "47/47 - 1s - 1s/epoch - 29ms/step\n"
          ]
        },
        {
          "output_type": "stream",
          "name": "stderr",
          "text": [
            "/usr/local/lib/python3.10/dist-packages/scikeras/wrappers.py:915: UserWarning: ``build_fn`` will be renamed to ``model`` in a future release, at which point use of ``build_fn`` will raise an Error instead.\n",
            "  X, y = self._initialize(X, y)\n"
          ]
        },
        {
          "output_type": "stream",
          "name": "stdout",
          "text": [
            "186/186 - 38s - loss: 0.8383 - accuracy: 0.6359 - 38s/epoch - 206ms/step\n",
            "47/47 - 1s - 1s/epoch - 28ms/step\n"
          ]
        },
        {
          "output_type": "stream",
          "name": "stderr",
          "text": [
            "/usr/local/lib/python3.10/dist-packages/scikeras/wrappers.py:915: UserWarning: ``build_fn`` will be renamed to ``model`` in a future release, at which point use of ``build_fn`` will raise an Error instead.\n",
            "  X, y = self._initialize(X, y)\n"
          ]
        },
        {
          "output_type": "stream",
          "name": "stdout",
          "text": [
            "186/186 - 39s - loss: 0.8494 - accuracy: 0.6347 - 39s/epoch - 210ms/step\n",
            "47/47 - 1s - 1s/epoch - 28ms/step\n"
          ]
        },
        {
          "output_type": "stream",
          "name": "stderr",
          "text": [
            "/usr/local/lib/python3.10/dist-packages/scikeras/wrappers.py:915: UserWarning: ``build_fn`` will be renamed to ``model`` in a future release, at which point use of ``build_fn`` will raise an Error instead.\n",
            "  X, y = self._initialize(X, y)\n"
          ]
        },
        {
          "output_type": "stream",
          "name": "stdout",
          "text": [
            "186/186 - 38s - loss: 0.8472 - accuracy: 0.6367 - 38s/epoch - 204ms/step\n",
            "47/47 - 1s - 1s/epoch - 28ms/step\n"
          ]
        },
        {
          "output_type": "stream",
          "name": "stderr",
          "text": [
            "/usr/local/lib/python3.10/dist-packages/scikeras/wrappers.py:915: UserWarning: ``build_fn`` will be renamed to ``model`` in a future release, at which point use of ``build_fn`` will raise an Error instead.\n",
            "  X, y = self._initialize(X, y)\n"
          ]
        },
        {
          "output_type": "stream",
          "name": "stdout",
          "text": [
            "186/186 - 40s - loss: 0.8379 - accuracy: 0.6429 - 40s/epoch - 213ms/step\n",
            "47/47 - 1s - 1s/epoch - 28ms/step\n"
          ]
        },
        {
          "output_type": "stream",
          "name": "stderr",
          "text": [
            "/usr/local/lib/python3.10/dist-packages/scikeras/wrappers.py:915: UserWarning: ``build_fn`` will be renamed to ``model`` in a future release, at which point use of ``build_fn`` will raise an Error instead.\n",
            "  X, y = self._initialize(X, y)\n"
          ]
        },
        {
          "output_type": "stream",
          "name": "stdout",
          "text": [
            "Epoch 1/2\n",
            "186/186 - 41s - loss: 0.8533 - accuracy: 0.6314 - 41s/epoch - 219ms/step\n",
            "Epoch 2/2\n",
            "186/186 - 35s - loss: 0.6873 - accuracy: 0.7086 - 35s/epoch - 186ms/step\n",
            "47/47 - 1s - 1s/epoch - 32ms/step\n"
          ]
        },
        {
          "output_type": "stream",
          "name": "stderr",
          "text": [
            "/usr/local/lib/python3.10/dist-packages/scikeras/wrappers.py:915: UserWarning: ``build_fn`` will be renamed to ``model`` in a future release, at which point use of ``build_fn`` will raise an Error instead.\n",
            "  X, y = self._initialize(X, y)\n"
          ]
        },
        {
          "output_type": "stream",
          "name": "stdout",
          "text": [
            "Epoch 1/2\n",
            "186/186 - 40s - loss: 0.8381 - accuracy: 0.6430 - 40s/epoch - 212ms/step\n",
            "Epoch 2/2\n",
            "186/186 - 34s - loss: 0.6848 - accuracy: 0.7139 - 34s/epoch - 184ms/step\n",
            "47/47 - 1s - 1s/epoch - 28ms/step\n"
          ]
        },
        {
          "output_type": "stream",
          "name": "stderr",
          "text": [
            "/usr/local/lib/python3.10/dist-packages/scikeras/wrappers.py:915: UserWarning: ``build_fn`` will be renamed to ``model`` in a future release, at which point use of ``build_fn`` will raise an Error instead.\n",
            "  X, y = self._initialize(X, y)\n"
          ]
        },
        {
          "output_type": "stream",
          "name": "stdout",
          "text": [
            "Epoch 1/2\n",
            "186/186 - 38s - loss: 0.8475 - accuracy: 0.6302 - 38s/epoch - 204ms/step\n",
            "Epoch 2/2\n",
            "186/186 - 36s - loss: 0.6996 - accuracy: 0.6984 - 36s/epoch - 193ms/step\n",
            "47/47 - 1s - 1s/epoch - 28ms/step\n"
          ]
        },
        {
          "output_type": "stream",
          "name": "stderr",
          "text": [
            "/usr/local/lib/python3.10/dist-packages/scikeras/wrappers.py:915: UserWarning: ``build_fn`` will be renamed to ``model`` in a future release, at which point use of ``build_fn`` will raise an Error instead.\n",
            "  X, y = self._initialize(X, y)\n"
          ]
        },
        {
          "output_type": "stream",
          "name": "stdout",
          "text": [
            "Epoch 1/2\n",
            "186/186 - 40s - loss: 0.8471 - accuracy: 0.6366 - 40s/epoch - 216ms/step\n",
            "Epoch 2/2\n",
            "186/186 - 36s - loss: 0.6808 - accuracy: 0.7067 - 36s/epoch - 191ms/step\n",
            "47/47 - 1s - 1s/epoch - 29ms/step\n"
          ]
        },
        {
          "output_type": "stream",
          "name": "stderr",
          "text": [
            "/usr/local/lib/python3.10/dist-packages/scikeras/wrappers.py:915: UserWarning: ``build_fn`` will be renamed to ``model`` in a future release, at which point use of ``build_fn`` will raise an Error instead.\n",
            "  X, y = self._initialize(X, y)\n"
          ]
        },
        {
          "output_type": "stream",
          "name": "stdout",
          "text": [
            "Epoch 1/2\n",
            "186/186 - 39s - loss: 0.8415 - accuracy: 0.6360 - 39s/epoch - 212ms/step\n",
            "Epoch 2/2\n",
            "186/186 - 35s - loss: 0.6753 - accuracy: 0.7151 - 35s/epoch - 189ms/step\n",
            "47/47 - 1s - 1s/epoch - 28ms/step\n"
          ]
        },
        {
          "output_type": "stream",
          "name": "stderr",
          "text": [
            "/usr/local/lib/python3.10/dist-packages/scikeras/wrappers.py:915: UserWarning: ``build_fn`` will be renamed to ``model`` in a future release, at which point use of ``build_fn`` will raise an Error instead.\n",
            "  X, y = self._initialize(X, y)\n"
          ]
        },
        {
          "output_type": "stream",
          "name": "stdout",
          "text": [
            "Epoch 1/2\n",
            "930/930 - 131s - loss: 0.8082 - accuracy: 0.6565 - 131s/epoch - 141ms/step\n",
            "Epoch 2/2\n",
            "930/930 - 125s - loss: 0.6741 - accuracy: 0.7139 - 125s/epoch - 134ms/step\n",
            "Best: 0.679650 using {'batch_size': 10, 'epochs': 2}\n"
          ]
        }
      ]
    }
  ]
}